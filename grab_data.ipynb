{
 "cells": [
  {
   "cell_type": "code",
   "execution_count": 11,
   "metadata": {},
   "outputs": [],
   "source": [
    "import os\n",
    "import cv2\n",
    "import time\n",
    "import shutil\n",
    "import keyboard\n",
    "import matplotlib.pyplot as plt\n",
    "import numpy as np\n",
    "from PIL import ImageGrab, Image\n",
    "from pynput.keyboard import Key, Controller\n",
    "\n",
    "kb = Controller()\n",
    "lst = {0:'w', 1:'a', 2:'s', 3:'d', 4:'nop'}"
   ]
  },
  {
   "cell_type": "code",
   "execution_count": 16,
   "metadata": {},
   "outputs": [],
   "source": [
    "def clean():\n",
    "    shutil.rmtree(r'data')\n",
    "    os.system('mkdir data')\n",
    "    os.chdir(os.getcwd() + '\\\\data')\n",
    "    for i in range(5):\n",
    "        os.system('mkdir {}'.format(lst[i]))\n",
    "    os.chdir('..')\n",
    "    return 1\n",
    "\n",
    "def move(opt):\n",
    "    if opt < 4:\n",
    "        opt = lst[opt]\n",
    "        hit_key(opt)\n",
    "\n",
    "def hit_key(key):\n",
    "    kb.press(key)\n",
    "    time.sleep(0.09)\n",
    "    kb.release(key)\n",
    "\n",
    "# def roi(img, vertices):\n",
    "#     mask = np.zeros_like(img)\n",
    "#     cv2.fillPoly(mask, vertices, 255)\n",
    "#     masked = cv2.bitwise_and(img, mask)\n",
    "#     return masked\n",
    "\n",
    "def process_img(original_image):\n",
    "    processed_img = original_image\n",
    "    # Grey scale\n",
    "    processed_img = cv2.cvtColor(original_image, cv2.COLOR_BGR2GRAY)\n",
    "    # Zeropadding the image\n",
    "    processed_img = np.pad(processed_img, ((0,144),(0,0)), 'constant')\n",
    "    # ROI\n",
    "#     vertices = np.array([[440,37],[158,597], [425,664], [1001,665], [1229,247]], np.int32)\n",
    "#     processed_img = roi(processed_img, [vertices])\n",
    "    # Straighten the image\n",
    "    pts_src = np.array([[440,37], [1229,247], [158,597],[947,807]])\n",
    "    pts_dst = np.array([[0,0],[817, 0],[0,627],[817, 627]])\n",
    "    im_dst = np.zeros((627, 817, 3), np.uint8)\n",
    "    h, status = cv2.findHomography(pts_src, pts_dst)\n",
    "    processed_img = cv2.warpPerspective(processed_img, h, (im_dst.shape[1],im_dst.shape[0]))\n",
    "    \n",
    "    return processed_img"
   ]
  },
  {
   "cell_type": "code",
   "execution_count": 14,
   "metadata": {},
   "outputs": [
    {
     "data": {
      "text/plain": [
       "1"
      ]
     },
     "execution_count": 14,
     "metadata": {},
     "output_type": "execute_result"
    }
   ],
   "source": [
    "clean()"
   ]
  },
  {
   "cell_type": "code",
   "execution_count": 17,
   "metadata": {},
   "outputs": [
    {
     "name": "stdout",
     "output_type": "stream",
     "text": [
      "Current time is:  Jul25_0113\n",
      "3...\n",
      "2...\n",
      "1...\n",
      "started\n"
     ]
    }
   ],
   "source": [
    "start = 0\n",
    "img_num = 0\n",
    "\n",
    "tmp = np.eye(5, dtype=int)\n",
    "\n",
    "# %b  %d %H %M\n",
    "# Jul 18 12:10\n",
    "t = time.strftime(\"%b%d_%H%M_\", time.localtime())\n",
    "print('Current time is: ', t[:-1])\n",
    "\n",
    "for i in range(3):\n",
    "    print('{}...'.format(3-i))\n",
    "    time.sleep(1)\n",
    "\n",
    "while True:\n",
    "    screen =  np.array(ImageGrab.grab(bbox=(0,33,1280,699)))\n",
    "    new_screen = process_img(screen)\n",
    "    cv2.imshow('monitor', new_screen)\n",
    "    \n",
    "    p = 4\n",
    "    for i in range(4):\n",
    "        if keyboard.is_pressed(lst[i]): \n",
    "            p = i\n",
    "            if not start:\n",
    "                print('started')\n",
    "                start = 1\n",
    "            time.sleep(0.2)\n",
    "    \n",
    "    img_id = t + str(img_num)\n",
    "    if start == 1:\n",
    "        Image.fromarray(new_screen).save('data/{}/{}.jpg'.format(lst[p], img_id))\n",
    "        img_num += 1\n",
    "    if cv2.waitKey(25) & 0xFF == ord('q'):\n",
    "            cv2.destroyAllWindows()\n",
    "            break"
   ]
  },
  {
   "cell_type": "code",
   "execution_count": null,
   "metadata": {},
   "outputs": [],
   "source": []
  }
 ],
 "metadata": {
  "kernelspec": {
   "display_name": "Python 3",
   "language": "python",
   "name": "python3"
  },
  "language_info": {
   "codemirror_mode": {
    "name": "ipython",
    "version": 3
   },
   "file_extension": ".py",
   "mimetype": "text/x-python",
   "name": "python",
   "nbconvert_exporter": "python",
   "pygments_lexer": "ipython3",
   "version": "3.7.6"
  }
 },
 "nbformat": 4,
 "nbformat_minor": 4
}
