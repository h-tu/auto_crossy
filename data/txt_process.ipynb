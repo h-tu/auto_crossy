{
 "cells": [
  {
   "cell_type": "code",
   "execution_count": 64,
   "metadata": {},
   "outputs": [],
   "source": [
    "import os\n",
    "import pandas\n",
    "from shutil import copyfile\n",
    "\n",
    "lst = {0:'w', 1:'a', 2:'s', 3:'d' }"
   ]
  },
  {
   "cell_type": "code",
   "execution_count": 25,
   "metadata": {},
   "outputs": [],
   "source": [
    "df = pandas.DataFrame()"
   ]
  },
  {
   "cell_type": "code",
   "execution_count": 6,
   "metadata": {},
   "outputs": [],
   "source": [
    "f = open(\"saved.txt\", 'r',encoding=\"utf8\")\n",
    "spl = f.read().split('\\n')"
   ]
  },
  {
   "cell_type": "code",
   "execution_count": 32,
   "metadata": {},
   "outputs": [],
   "source": [
    "copy = list(filter(('').__ne__, spl))"
   ]
  },
  {
   "cell_type": "code",
   "execution_count": 53,
   "metadata": {},
   "outputs": [],
   "source": [
    "PATH = \"nop\"\n",
    "tmp = os.listdir(PATH)"
   ]
  },
  {
   "cell_type": "code",
   "execution_count": 47,
   "metadata": {},
   "outputs": [],
   "source": [
    "index = [[],[],[],[]]\n",
    "prev = 0\n",
    "\n",
    "for idx, item in enumerate(copy):\n",
    "    \n",
    "    if ']' in item:\n",
    "        prev = int(item.split('|')[2].split('/')[0])\n",
    "        # print(idx, prev)\n",
    "    else:\n",
    "        num = 0\n",
    "        try:\n",
    "            num = int(item)\n",
    "        except Exception as e:\n",
    "            pass\n",
    "        \n",
    "        if num != 0:\n",
    "            index[num - 1].append(prev - 1)"
   ]
  },
  {
   "cell_type": "code",
   "execution_count": 65,
   "metadata": {},
   "outputs": [],
   "source": [
    "for idx, id_lst in enumerate(index):\n",
    "    for fid in id_lst:\n",
    "        src = \"nop/\" + tmp[fid]\n",
    "        dst = \"new_{}/\".format(lst[idx]) + tmp[fid]\n",
    "        \n",
    "        copyfile(src, dst) "
   ]
  },
  {
   "cell_type": "code",
   "execution_count": 66,
   "metadata": {},
   "outputs": [
    {
     "data": {
      "text/plain": [
       "829"
      ]
     },
     "execution_count": 66,
     "metadata": {},
     "output_type": "execute_result"
    }
   ],
   "source": [
    "len(tmp)"
   ]
  },
  {
   "cell_type": "code",
   "execution_count": 68,
   "metadata": {},
   "outputs": [
    {
     "data": {
      "text/plain": [
       "389"
      ]
     },
     "execution_count": 68,
     "metadata": {},
     "output_type": "execute_result"
    }
   ],
   "source": [
    "len(index[0])"
   ]
  }
 ],
 "metadata": {
  "kernelspec": {
   "display_name": "Python 3",
   "language": "python",
   "name": "python3"
  },
  "language_info": {
   "codemirror_mode": {
    "name": "ipython",
    "version": 3
   },
   "file_extension": ".py",
   "mimetype": "text/x-python",
   "name": "python",
   "nbconvert_exporter": "python",
   "pygments_lexer": "ipython3",
   "version": "3.7.6"
  }
 },
 "nbformat": 4,
 "nbformat_minor": 4
}
