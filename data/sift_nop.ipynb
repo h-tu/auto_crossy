{
 "cells": [
  {
   "cell_type": "code",
   "execution_count": 6,
   "metadata": {},
   "outputs": [],
   "source": [
    "import os\n",
    "import cv2\n",
    "import time\n",
    "import keyboard\n",
    "from tqdm import tqdm\n",
    "import shutil\n",
    "import matplotlib.pyplot as plt\n",
    "\n",
    "PATH = \"nop\"\n",
    "tmp = os.listdir(PATH)\n",
    "lst = {1:'w', 2:'a', 3:'s', 4:'d' }"
   ]
  },
  {
   "cell_type": "code",
   "execution_count": 7,
   "metadata": {},
   "outputs": [
    {
     "name": "stderr",
     "output_type": "stream",
     "text": [
      "\n",
      "  0%|                                                                                          | 0/368 [00:00<?, ?it/s]\u001b[A"
     ]
    },
    {
     "name": "stdin",
     "output_type": "stream",
     "text": [
      " 1\n"
     ]
    },
    {
     "name": "stderr",
     "output_type": "stream",
     "text": [
      "\n",
      "  0%|▏                                                                               | 1/368 [00:16<1:42:34, 16.77s/it]\u001b[A"
     ]
    },
    {
     "name": "stdout",
     "output_type": "stream",
     "text": [
      "nop/Jul27_0120_102.jpg\n",
      "new_w/Jul27_0120_102.jpg\n"
     ]
    },
    {
     "name": "stdin",
     "output_type": "stream",
     "text": [
      " exit\n"
     ]
    }
   ],
   "source": [
    "for f in tqdm(tmp):\n",
    "    if \"jpg\" in f:\n",
    "        path = os.path.join(PATH, f)\n",
    "        img = cv2.imread(path, cv2.IMREAD_GRAYSCALE)\n",
    "        cv2.imshow('monitor', img)\n",
    "        choice = input()\n",
    "        if choice == 'exit':\n",
    "            cv2.destroyAllWindows()\n",
    "            break\n",
    "        if choice == '':\n",
    "            choice = 5\n",
    "        else:\n",
    "            choice = int(choice)\n",
    "            \n",
    "        if choice <= 4:\n",
    "            src = \"nop/\" + f\n",
    "            dst = \"new_{}/\".format(lst[choice]) + f\n",
    "            print(src + '\\n' + dst)\n",
    "            shutil.move(src, dst) \n",
    "            \n",
    "    if cv2.waitKey(25) & 0xFF == ord('q'):\n",
    "        cv2.destroyAllWindows()\n",
    "        break"
   ]
  },
  {
   "cell_type": "code",
   "execution_count": null,
   "metadata": {},
   "outputs": [],
   "source": [
    "cv2.destroyAllWindows()"
   ]
  }
 ],
 "metadata": {
  "kernelspec": {
   "display_name": "Python 3",
   "language": "python",
   "name": "python3"
  },
  "language_info": {
   "codemirror_mode": {
    "name": "ipython",
    "version": 3
   },
   "file_extension": ".py",
   "mimetype": "text/x-python",
   "name": "python",
   "nbconvert_exporter": "python",
   "pygments_lexer": "ipython3",
   "version": "3.7.6"
  }
 },
 "nbformat": 4,
 "nbformat_minor": 4
}
